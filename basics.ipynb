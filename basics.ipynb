{
  "cells": [
    {
      "cell_type": "code",
      "execution_count": null,
      "metadata": {
        "colab": {
          "base_uri": "https://localhost:8080/"
        },
        "id": "sjp00txfHwII",
        "outputId": "397aab29-7589-4823-abb9-69a800fee9e4"
      },
      "outputs": [
        {
          "name": "stdout",
          "output_type": "stream",
          "text": [
            "8776655432546\n",
            "even\n",
            "odd\n",
            "odd\n",
            "even\n",
            "even\n",
            "odd\n",
            "odd\n",
            "even\n",
            "odd\n",
            "even\n",
            "odd\n",
            "even\n",
            "even\n",
            "7\n",
            "6\n",
            "['even', 'even', 'even', 'even', 'even', 'even', 'even']\n",
            "['odd', 'odd', 'odd', 'odd', 'odd', 'odd']\n"
          ]
        }
      ],
      "source": [
        "a = input()\n",
        "b = list(map(int,list(a)))\n",
        "even = 0\n",
        "odd = 0\n",
        "empty1 = []\n",
        "empty2 = []\n",
        "\n",
        "for i in range(len(b)):\n",
        "  if b[i]%2==0:\n",
        "    even+=1\n",
        "    print(\"even\")\n",
        "    empty1.append(\"even\")\n",
        "\n",
        "  else:\n",
        "    odd+=1\n",
        "    print(\"odd\")\n",
        "    empty2.append(\"odd\")\n",
        "\n",
        "print(even)\n",
        "print(odd)\n",
        "print(empty1) \n",
        "print(empty2)                                   "
      ]
    },
    {
      "cell_type": "markdown",
      "source": [],
      "metadata": {
        "id": "qEX8ZRWZvYw_"
      }
    },
    {
      "cell_type": "code",
      "execution_count": null,
      "metadata": {
        "id": "3sce-EMi-S97",
        "colab": {
          "base_uri": "https://localhost:8080/"
        },
        "outputId": "43b459fe-0002-4481-c646-487fc7ae1488"
      },
      "outputs": [
        {
          "output_type": "stream",
          "name": "stdout",
          "text": [
            "21\n"
          ]
        }
      ],
      "source": [
        "a = 1,2,3,4,5,6 #here we want to know the total sum()'+' of element in given varible\n",
        "b = sum(a)         #basic for how  sum() function works\n",
        "print(b)"
      ]
    },
    {
      "cell_type": "code",
      "execution_count": null,
      "metadata": {
        "id": "f53p_Kae-XxJ",
        "colab": {
          "base_uri": "https://localhost:8080/"
        },
        "outputId": "95db01d6-abc9-4c03-eb27-25becd7ef912"
      },
      "outputs": [
        {
          "output_type": "stream",
          "name": "stdout",
          "text": [
            "55\n"
          ]
        }
      ],
      "source": [
        "num =(10)      #take as int data\n",
        "sum = 0        #take a empty variable for storing data when loop iterates \n",
        "for i in range (1,num+1): #syntax(iterable,sum)\n",
        "  sum +=i\n",
        "print(sum)"
      ]
    },
    {
      "cell_type": "code",
      "execution_count": null,
      "metadata": {
        "colab": {
          "base_uri": "https://localhost:8080/"
        },
        "id": "X-DUyoSDIr2b",
        "outputId": "9d6a0f7d-a013-4001-c28d-95cb697d8376"
      },
      "outputs": [
        {
          "output_type": "stream",
          "name": "stdout",
          "text": [
            "this is iphone\n",
            "this is not iphone\n",
            "this is not iphone\n",
            "this is not iphone\n",
            "this is not iphone\n"
          ]
        }
      ],
      "source": [
        "mobiles = ['iphone','oneplus','mi','realme',\"oppo\"]                   #list\n",
        "for i in mobiles:                                                     #loop\n",
        "  if i=='iphone':                                                     #condition ,comparision operator \"==\"\n",
        "    print(\"this is iphone\")                                                      \n",
        "  else:\n",
        "    print(\"this is not iphone\")\n"
      ]
    },
    {
      "cell_type": "code",
      "execution_count": null,
      "metadata": {
        "colab": {
          "base_uri": "https://localhost:8080/"
        },
        "id": "pDiU6KFxQMqE",
        "outputId": "7e130253-1fb6-4616-ad15-cf27deb65d33"
      },
      "outputs": [
        {
          "output_type": "stream",
          "name": "stdout",
          "text": [
            "1\n",
            "2\n",
            "3\n",
            "4\n",
            "5\n",
            "6\n",
            "7\n",
            "8\n",
            "9\n",
            "10\n",
            "complete\n"
          ]
        }
      ],
      "source": [
        "c=0\n",
        "while c<10:\n",
        "  c+=1\n",
        "  print(c)\n",
        "else:\n",
        "  print('complete')"
      ]
    },
    {
      "cell_type": "code",
      "execution_count": null,
      "metadata": {
        "colab": {
          "base_uri": "https://localhost:8080/"
        },
        "id": "JB8bZjibRPdO",
        "outputId": "27d7c35e-f235-46b2-98b3-4b1258d4b094"
      },
      "outputs": [
        {
          "name": "stdout",
          "output_type": "stream",
          "text": [
            "<class 'tuple'>\n"
          ]
        }
      ],
      "source": [
        "mohan =(1,3.3,'kiran')\n",
        "print(type(mohan))"
      ]
    },
    {
      "cell_type": "code",
      "execution_count": null,
      "metadata": {
        "colab": {
          "base_uri": "https://localhost:8080/"
        },
        "id": "ze1nbxhCW8yD",
        "outputId": "6313fe5f-b0a9-4e17-88f6-cffc68c8a9cc"
      },
      "outputs": [
        {
          "name": "stdout",
          "output_type": "stream",
          "text": [
            "kiran\n"
          ]
        }
      ],
      "source": [
        "mohan =(1,2.3,'kiran')                       #index starts from zero\n",
        "print(mohan[2])"
      ]
    },
    {
      "cell_type": "code",
      "execution_count": null,
      "metadata": {
        "colab": {
          "base_uri": "https://localhost:8080/"
        },
        "id": "_ZdhyHF-Xkdf",
        "outputId": "5fce8c5c-9674-45e8-86c7-6baf3ce8327e"
      },
      "outputs": [
        {
          "name": "stdout",
          "output_type": "stream",
          "text": [
            "(1, 3.3, 'chiru', 1, 3.3, 'chiru', 1, 3.3, 'chiru')\n"
          ]
        }
      ],
      "source": [
        "\"reputations in tuple\" #use (*)\n",
        "kiran=(1,3.3,\"chiru\")\n",
        "print(kiran*3)"
      ]
    },
    {
      "cell_type": "code",
      "execution_count": null,
      "metadata": {
        "colab": {
          "base_uri": "https://localhost:8080/"
        },
        "id": "uDZoN-JBYdgL",
        "outputId": "9907ea33-9ca2-4b72-ccb5-ca169a01610f"
      },
      "outputs": [
        {
          "name": "stdout",
          "output_type": "stream",
          "text": [
            "(1, 2, 3, 4, 5, 6, 7, 8, 9)\n"
          ]
        }
      ],
      "source": [
        "\"concadinations in tuple(as same as reputations)\"\n",
        "mohan=(1,2,3,4,5)\n",
        "chiru=(6,7,8,9,)\n",
        "print(mohan+chiru)"
      ]
    },
    {
      "cell_type": "code",
      "execution_count": null,
      "metadata": {
        "colab": {
          "base_uri": "https://localhost:8080/"
        },
        "id": "5PNnGClbZuU5",
        "outputId": "dd6eeab0-8f1a-4c1b-e718-694b983f5bb8"
      },
      "outputs": [
        {
          "output_type": "stream",
          "name": "stdout",
          "text": [
            "True\n"
          ]
        }
      ],
      "source": [
        "\"membership operation in tuple\"         #membership operators in,not in \n",
        "chiru=(1,3,4,5,6)\n",
        "print(6 in chiru)"
      ]
    },
    {
      "cell_type": "code",
      "execution_count": null,
      "metadata": {
        "colab": {
          "base_uri": "https://localhost:8080/"
        },
        "id": "IbjQlilQbdus",
        "outputId": "a7795236-0c6e-4399-aa9d-a7a69bc2aad7"
      },
      "outputs": [
        {
          "name": "stdout",
          "output_type": "stream",
          "text": [
            "False\n"
          ]
        }
      ],
      "source": [
        "mohan=(1,2,3,4,5)\n",
        "print(6in mohan)"
      ]
    },
    {
      "cell_type": "code",
      "execution_count": null,
      "metadata": {
        "colab": {
          "base_uri": "https://localhost:8080/"
        },
        "id": "j_gneAVZbwLE",
        "outputId": "0c86da76-f6d8-4a6d-fb4b-cfbebae03a2e"
      },
      "outputs": [
        {
          "name": "stdout",
          "output_type": "stream",
          "text": [
            "4\n",
            "5\n",
            "6\n",
            "7\n"
          ]
        }
      ],
      "source": [
        "\"iterations in tuple\"\n",
        "a=(4,5,6,7)\n",
        "for i in a:\n",
        "  print(i)"
      ]
    },
    {
      "cell_type": "code",
      "execution_count": null,
      "metadata": {
        "colab": {
          "base_uri": "https://localhost:8080/"
        },
        "id": "Zoz1Uk2COcGm",
        "outputId": "d78f114a-5f02-46b9-dcb4-4c49bcb6da6b"
      },
      "outputs": [
        {
          "output_type": "stream",
          "name": "stdout",
          "text": [
            "mohan better in reading\n"
          ]
        }
      ],
      "source": [
        "a=\"chiru better in reading\"\n",
        "a2=a.replace(\"chiru\",\"mohan\")\n",
        "print(a2)\n",
        "#replace function in strings"
      ]
    },
    {
      "cell_type": "code",
      "execution_count": null,
      "metadata": {
        "colab": {
          "base_uri": "https://localhost:8080/"
        },
        "id": "RLOmKLtXmpMK",
        "outputId": "f2c9f36b-9460-4e58-f6fa-a7ea7e54c097"
      },
      "outputs": [
        {
          "output_type": "stream",
          "name": "stdout",
          "text": [
            "THIS IS WEIRD THING I NEVER SAW BEFORE\n"
          ]
        }
      ],
      "source": [
        "#upper functions in strings is use to change small letters to capital letters \n",
        "m=\"this is weird thing i never saw before\"\n",
        "m2=m.upper()\n",
        "print(m2)"
      ]
    },
    {
      "cell_type": "code",
      "execution_count": null,
      "metadata": {
        "colab": {
          "base_uri": "https://localhost:8080/"
        },
        "id": "ZgH1BXEetAXh",
        "outputId": "379818c6-cd38-4da8-d29c-d78217b33bb2"
      },
      "outputs": [
        {
          "name": "stdout",
          "output_type": "stream",
          "text": [
            "he is very irritated person\n"
          ]
        }
      ],
      "source": [
        "#lower functions in strings use to change capital letter to small letter\n",
        "name=\"HE IS VERY IRRITATED PERSON\"\n",
        "name2=name.lower()\n",
        "print(name2)"
      ]
    },
    {
      "cell_type": "code",
      "execution_count": null,
      "metadata": {
        "colab": {
          "base_uri": "https://localhost:8080/"
        },
        "id": "7ZEpbZdduQx0",
        "outputId": "9d28546c-0b3c-44d1-dd60-7817f309a9bf"
      },
      "outputs": [
        {
          "name": "stdout",
          "output_type": "stream",
          "text": [
            "look at vibes\n"
          ]
        }
      ],
      "source": [
        "#strip function is use to eliminate space\n",
        "r=\"          look at vibes\"\n",
        "r2=r.strip()\n",
        "print(r2)"
      ]
    },
    {
      "cell_type": "code",
      "execution_count": null,
      "metadata": {
        "colab": {
          "base_uri": "https://localhost:8080/"
        },
        "id": "hoAbjoZ-wH8C",
        "outputId": "32ca1242-c590-4586-ad74-90943749b9d0"
      },
      "outputs": [
        {
          "name": "stdout",
          "output_type": "stream",
          "text": [
            "True\n"
          ]
        }
      ],
      "source": [
        "'''\n",
        "startswith() string method checks whether a string with a paticular substring.\n",
        "if the string starts with a specified substring,the startswith() method \n",
        "returns true,otherwise,the function returns false\n",
        "'''\n",
        "karma=\"me\"\n",
        "print(karma.startswith(\"m\"))\n"
      ]
    },
    {
      "cell_type": "code",
      "execution_count": null,
      "metadata": {
        "colab": {
          "base_uri": "https://localhost:8080/"
        },
        "id": "3QbjG9itzSIR",
        "outputId": "9df9fc1b-4883-4de2-eb1a-233a4281d3e3"
      },
      "outputs": [
        {
          "name": "stdout",
          "output_type": "stream",
          "text": [
            "True\n"
          ]
        }
      ],
      "source": [
        "#endswith\n",
        "me=\"arey entraidhi\"\n",
        "print(me.endswith('i'))"
      ]
    },
    {
      "cell_type": "code",
      "execution_count": null,
      "metadata": {
        "colab": {
          "base_uri": "https://localhost:8080/"
        },
        "id": "OsICn30Lz6aO",
        "outputId": "f76348b1-3b70-4cc4-c4a5-a2332b5a83a0"
      },
      "outputs": [
        {
          "name": "stdout",
          "output_type": "stream",
          "text": [
            "my name is kiran\n"
          ]
        }
      ],
      "source": [
        "#formate\n",
        "print(\"my name is {}\".format('kiran'))"
      ]
    },
    {
      "cell_type": "code",
      "execution_count": null,
      "metadata": {
        "colab": {
          "base_uri": "https://localhost:8080/"
        },
        "id": "IFgM0oopsqCS",
        "outputId": "69c18c8f-8bcc-43b7-e847-dbd973870dc3"
      },
      "outputs": [
        {
          "name": "stdout",
          "output_type": "stream",
          "text": [
            "{1, 2, 3, 4}\n"
          ]
        }
      ],
      "source": [
        "'''\n",
        "sets allowed  unordered element, set elememts are unique, duplicate elememts not \n",
        "allowed. a set itself may be modified but the elements contained in the set \n",
        "must be of an immutable type\n",
        "'''\n",
        "s={1,1,2,2,3,3,4}\n",
        "print(s)\n"
      ]
    },
    {
      "cell_type": "code",
      "execution_count": null,
      "metadata": {
        "colab": {
          "base_uri": "https://localhost:8080/"
        },
        "id": "gqr0FPgmvDsa",
        "outputId": "07b94c36-82bc-4c6b-8a9e-0b60596db8e3"
      },
      "outputs": [
        {
          "output_type": "stream",
          "name": "stdout",
          "text": [
            "{1, 2, 3, 4, 5, 10, 78, 80, 90}\n"
          ]
        }
      ],
      "source": [
        "#sets union\n",
        "t1={1,2,3,4,5}\n",
        "t2={78,80,90,1,2,3,10}\n",
        "print(t1.union(t2))"
      ]
    },
    {
      "cell_type": "code",
      "execution_count": null,
      "metadata": {
        "colab": {
          "base_uri": "https://localhost:8080/"
        },
        "id": "ssH1HcWj4syN",
        "outputId": "308cd145-f620-4d97-df30-2c07daa5d0a5"
      },
      "outputs": [
        {
          "name": "stdout",
          "output_type": "stream",
          "text": [
            "{2, 4, 5, 6}\n"
          ]
        }
      ],
      "source": [
        "#sets intersection (common elements printed)\n",
        "y1={1,2,3,4,5,6}\n",
        "y2={56,67,88,2,4,5,6}\n",
        "print(y1.intersection(y2))"
      ]
    },
    {
      "cell_type": "code",
      "execution_count": null,
      "metadata": {
        "colab": {
          "base_uri": "https://localhost:8080/"
        },
        "id": "pZamn4Ui5y2q",
        "outputId": "c9686d14-dd5a-434a-ff7e-91f384080fc5"
      },
      "outputs": [
        {
          "name": "stdout",
          "output_type": "stream",
          "text": [
            "2\n"
          ]
        }
      ],
      "source": [
        "t=2\n",
        "print(t)\n",
        "\n",
        "\n"
      ]
    },
    {
      "cell_type": "code",
      "execution_count": null,
      "metadata": {
        "colab": {
          "base_uri": "https://localhost:8080/"
        },
        "id": "dibpeecPcYNH",
        "outputId": "2eef8c89-00f7-45ab-adea-3b5e9b887ca2"
      },
      "outputs": [
        {
          "name": "stdout",
          "output_type": "stream",
          "text": [
            "2 3 4 5 6 7\n",
            "2 3 4 5 6 7\n"
          ]
        }
      ],
      "source": [
        "a = input()\n",
        "print(a)"
      ]
    },
    {
      "cell_type": "code",
      "execution_count": null,
      "metadata": {
        "colab": {
          "base_uri": "https://localhost:8080/"
        },
        "id": "nHhN5DgXdLvd",
        "outputId": "925db72b-c319-4db3-e4e1-5d4468999790"
      },
      "outputs": [
        {
          "name": "stdout",
          "output_type": "stream",
          "text": [
            "5 3\n",
            "1 2 3 4 5\n",
            "5 3\n",
            "1 2 3 4 5\n"
          ]
        }
      ],
      "source": [
        "a = input()\n",
        "b = input()\n",
        "print(a)\n",
        "print(b)\n"
      ]
    },
    {
      "cell_type": "code",
      "execution_count": null,
      "metadata": {
        "colab": {
          "base_uri": "https://localhost:8080/"
        },
        "id": "ZP0N4nWibMot",
        "outputId": "92e8d032-36d9-4fb0-e84d-f8fe4d99a856"
      },
      "outputs": [
        {
          "name": "stdout",
          "output_type": "stream",
          "text": [
            "2 4\n",
            "2 4\n",
            "2 4\n",
            "2 4\n",
            "2 4\n",
            "2 4\n"
          ]
        }
      ],
      "source": [
        "a = input()\n",
        "b = input()\n",
        "c = input()\n",
        "print(a)\n",
        "print(b)\n",
        "print(c)"
      ]
    },
    {
      "cell_type": "code",
      "execution_count": null,
      "metadata": {
        "colab": {
          "base_uri": "https://localhost:8080/"
        },
        "id": "DtNkT2aDfS7o",
        "outputId": "bb5109ee-ee56-460f-84d9-1acb02583362"
      },
      "outputs": [
        {
          "name": "stdout",
          "output_type": "stream",
          "text": [
            "2\n",
            "4\n",
            "5\n",
            "2 4 5\n"
          ]
        }
      ],
      "source": [
        "a=input()\n",
        "b=input()\n",
        "c=input()\n",
        "print(a,b,c)\n"
      ]
    },
    {
      "cell_type": "code",
      "execution_count": null,
      "metadata": {
        "colab": {
          "base_uri": "https://localhost:8080/"
        },
        "id": "pxOMAvmqfvP6",
        "outputId": "6b566d54-ee18-4848-b5e3-f5cd127be8d8"
      },
      "outputs": [
        {
          "name": "stdout",
          "output_type": "stream",
          "text": [
            "2 5\n",
            "2 5 6\n",
            "2 4 5\n",
            "2 5\n",
            "2 5 6\n",
            "2 4 5\n"
          ]
        }
      ],
      "source": [
        "m=input()\n",
        "r=input()\n",
        "c=input()\n",
        "print(m)\n",
        "print(r)\n",
        "print(c)"
      ]
    },
    {
      "cell_type": "code",
      "execution_count": null,
      "metadata": {
        "colab": {
          "base_uri": "https://localhost:8080/"
        },
        "id": "Bj3pT-G7in4p",
        "outputId": "33a8ec4a-3a27-407b-b328-8677a9cb49ba"
      },
      "outputs": [
        {
          "output_type": "stream",
          "name": "stdout",
          "text": [
            "guvi\n",
            "g u v i\n"
          ]
        }
      ],
      "source": [
        "a = input()    #joining space\n",
        "b = list(a)\n",
        "print(\" \".join(b))"
      ]
    },
    {
      "cell_type": "code",
      "execution_count": null,
      "metadata": {
        "colab": {
          "base_uri": "https://localhost:8080/"
        },
        "id": "YKrgmXcWmJBk",
        "outputId": "c841e468-61d5-4f0c-e111-be2da358251e"
      },
      "outputs": [
        {
          "name": "stdout",
          "output_type": "stream",
          "text": [
            "2.3 4.5 7.8\n",
            "2.3\n",
            "4.5\n",
            "7.8\n"
          ]
        }
      ],
      "source": [
        "a=input()\n",
        "for i in a.split(\" \"):\n",
        "  print(i)"
      ]
    },
    {
      "cell_type": "code",
      "execution_count": null,
      "metadata": {
        "colab": {
          "base_uri": "https://localhost:8080/"
        },
        "id": "Jf4NIHN-p3HT",
        "outputId": "52ca0d2b-a5cd-48f3-c9f9-571b786b78be"
      },
      "outputs": [
        {
          "output_type": "stream",
          "name": "stdout",
          "text": [
            "guvigeek\n",
            "g\n",
            "u\n",
            "v\n",
            "i\n",
            "g\n",
            "e\n",
            "e\n",
            "k\n"
          ]
        }
      ],
      "source": [
        "a = input()\n",
        "for i in a:\n",
        "  print(i)"
      ]
    },
    {
      "cell_type": "code",
      "execution_count": null,
      "metadata": {
        "colab": {
          "base_uri": "https://localhost:8080/"
        },
        "id": "svEwa7cjrEnI",
        "outputId": "8ee091fe-83b8-4bc7-91a5-09596c7ee407"
      },
      "outputs": [
        {
          "name": "stdout",
          "output_type": "stream",
          "text": [
            "guvi\n",
            "g,u,v,i\n"
          ]
        }
      ],
      "source": [
        "a = input()\n",
        "b =list(a)\n",
        "print(\",\".join(a))\n"
      ]
    },
    {
      "cell_type": "code",
      "execution_count": null,
      "metadata": {
        "colab": {
          "base_uri": "https://localhost:8080/"
        },
        "id": "kvaz6mq3Mr1-",
        "outputId": "051569ac-dca8-43c3-b0f0-1bff028f1993"
      },
      "outputs": [
        {
          "output_type": "stream",
          "name": "stdout",
          "text": [
            "9\n",
            "45\n"
          ]
        }
      ],
      "source": [
        "num=int(input())\n",
        "sum=0\n",
        "for i in range(1,num+1):\n",
        "  sum+=i\n",
        "print(sum)"
      ]
    },
    {
      "cell_type": "code",
      "execution_count": null,
      "metadata": {
        "colab": {
          "base_uri": "https://localhost:8080/"
        },
        "id": "_5Y-drAnzZdQ",
        "outputId": "a516551b-f57f-4636-8cfb-521a212fdc17"
      },
      "outputs": [
        {
          "name": "stdout",
          "output_type": "stream",
          "text": [
            "3\n",
            "3\n",
            "3\n",
            "3\n"
          ]
        }
      ],
      "source": [
        "t = input()\n",
        "for line in range(3):\n",
        "  print(t)"
      ]
    },
    {
      "cell_type": "code",
      "execution_count": null,
      "metadata": {
        "colab": {
          "base_uri": "https://localhost:8080/"
        },
        "id": "VWBOBR_G0mVr",
        "outputId": "418a963a-34e6-4f4b-b20f-6a90f27e413a"
      },
      "outputs": [
        {
          "output_type": "stream",
          "name": "stdout",
          "text": [
            "30\n",
            "2\n",
            "4\n",
            "6\n",
            "8\n",
            "10\n",
            "12\n",
            "14\n",
            "16\n",
            "18\n",
            "20\n",
            "22\n",
            "24\n",
            "26\n",
            "28\n",
            "30\n"
          ]
        }
      ],
      "source": [
        "data = int(input())\n",
        "for i in range(2,data+1):\n",
        "    if i%2==0:\n",
        "      print(i)\n"
      ]
    },
    {
      "cell_type": "code",
      "execution_count": null,
      "metadata": {
        "colab": {
          "base_uri": "https://localhost:8080/"
        },
        "id": "d688cPkNrw77",
        "outputId": "adfdd2d0-a16c-4d6b-b17d-1481302972f5"
      },
      "outputs": [
        {
          "name": "stdout",
          "output_type": "stream",
          "text": [
            "guvi\n",
            "ivug\n"
          ]
        }
      ],
      "source": [
        "t =input()\n",
        "print(t[::-1])\n",
        "\n"
      ]
    },
    {
      "cell_type": "code",
      "execution_count": null,
      "metadata": {
        "colab": {
          "base_uri": "https://localhost:8080/"
        },
        "id": "qGBlFdR6Mmim",
        "outputId": "5c2a8de9-21be-4e6a-969a-1f6b9c573b00"
      },
      "outputs": [
        {
          "name": "stdout",
          "output_type": "stream",
          "text": [
            "346\n",
            "3 4 6\n"
          ]
        }
      ],
      "source": [
        "num = list(input())\n",
        "print(\" \".join(num))    #using join gap b/w given elements "
      ]
    },
    {
      "cell_type": "code",
      "execution_count": null,
      "metadata": {
        "colab": {
          "base_uri": "https://localhost:8080/"
        },
        "id": "wO9VPZ9eQ2_m",
        "outputId": "b4f9014d-dea8-4504-942b-02a563a2b6dc"
      },
      "outputs": [
        {
          "name": "stdout",
          "output_type": "stream",
          "text": [
            "124\n",
            "7\n"
          ]
        }
      ],
      "source": [
        "h= input()\n",
        "b=list(map(int,h))\n",
        "sum = 0\n",
        "for i in range (len(b)):\n",
        "  sum+=b[i]\n",
        "print(sum)\n"
      ]
    },
    {
      "cell_type": "code",
      "execution_count": null,
      "metadata": {
        "colab": {
          "base_uri": "https://localhost:8080/"
        },
        "id": "My_6jdtEQgM0",
        "outputId": "04176304-9fd0-4cb8-8cf1-a215bb6f5ea2"
      },
      "outputs": [
        {
          "name": "stdout",
          "output_type": "stream",
          "text": [
            "5\n",
            "1\n",
            "2\n",
            "3\n",
            "4\n",
            "5\n"
          ]
        }
      ],
      "source": [
        "h=int(input())\n",
        "for i in range(1,h+1): #it goes 1 to 5\n",
        "  print(i)"
      ]
    },
    {
      "cell_type": "code",
      "execution_count": null,
      "metadata": {
        "colab": {
          "base_uri": "https://localhost:8080/"
        },
        "id": "JCSIMY0jkwqG",
        "outputId": "f790e6c0-3c00-4258-b42a-292d9b268815"
      },
      "outputs": [
        {
          "output_type": "stream",
          "name": "stdout",
          "text": [
            "10\n",
            "10\n",
            "9\n",
            "8\n",
            "7\n",
            "6\n",
            "5\n",
            "4\n",
            "3\n",
            "2\n",
            "1\n"
          ]
        }
      ],
      "source": [
        "data =int(input())\n",
        "for i in range(data,0,-1):  #it goes 10 to 1\n",
        "  print(i)"
      ]
    },
    {
      "cell_type": "code",
      "execution_count": null,
      "metadata": {
        "colab": {
          "base_uri": "https://localhost:8080/"
        },
        "id": "XpnrYoLrkwta",
        "outputId": "e036e31f-86bc-485b-8ab2-34dd2e7974e0"
      },
      "outputs": [
        {
          "name": "stdout",
          "output_type": "stream",
          "text": [
            "1\n",
            "1000\n",
            "100000\n"
          ]
        }
      ],
      "source": [
        "a = int(input())\n",
        "print(a*1000)     # multipply\n",
        "print(a*100000)"
      ]
    },
    {
      "cell_type": "code",
      "execution_count": null,
      "metadata": {
        "id": "0ZRd9IUEsnfg"
      },
      "outputs": [],
      "source": []
    },
    {
      "cell_type": "code",
      "execution_count": null,
      "metadata": {
        "colab": {
          "base_uri": "https://localhost:8080/"
        },
        "id": "qLmWYgu9LCb2",
        "outputId": "43b61f0b-6b53-4aee-9c0c-5b94e6f8a9cf"
      },
      "outputs": [
        {
          "name": "stdout",
          "output_type": "stream",
          "text": [
            "6\n",
            "8\n"
          ]
        },
        {
          "output_type": "execute_result",
          "data": {
            "text/plain": [
              "48"
            ]
          },
          "metadata": {},
          "execution_count": 17
        }
      ],
      "source": [
        "a = int(input())\n",
        "b = int(input()) #multiply\n",
        "a*b"
      ]
    },
    {
      "cell_type": "code",
      "execution_count": null,
      "metadata": {
        "colab": {
          "base_uri": "https://localhost:8080/"
        },
        "id": "eVVbcYl7w4nR",
        "outputId": "8f2946cb-d119-4209-a6b2-d12c54a2ec6f"
      },
      "outputs": [
        {
          "name": "stdout",
          "output_type": "stream",
          "text": [
            "2\n",
            "2 4 6 \n"
          ]
        }
      ],
      "source": [
        "a = int(input())\n",
        "c = \"\"\n",
        "for i in range(1,4):\n",
        "  c =c+str(a*i) + \" \"\n",
        "print(c)\n"
      ]
    },
    {
      "cell_type": "code",
      "execution_count": null,
      "metadata": {
        "colab": {
          "base_uri": "https://localhost:8080/"
        },
        "id": "s6Uopo-f3TIz",
        "outputId": "a9b647d3-2619-4e86-a9a8-38e0f7c6b57b"
      },
      "outputs": [
        {
          "name": "stdout",
          "output_type": "stream",
          "text": [
            "3\n",
            "odd\n"
          ]
        }
      ],
      "source": [
        "data =  int (input())\n",
        "if data%2==0:\n",
        "  print(\"even\")\n",
        "else:\n",
        "  print(\"odd\")\n",
        "\n"
      ]
    },
    {
      "cell_type": "code",
      "execution_count": null,
      "metadata": {
        "colab": {
          "base_uri": "https://localhost:8080/"
        },
        "id": "ZBT0HOly8k1E",
        "outputId": "b102d751-e54c-4081-fce2-866eea0d94cd"
      },
      "outputs": [
        {
          "output_type": "stream",
          "name": "stdout",
          "text": [
            "[2, 'chiru', 4, 5, 6]\n"
          ]
        }
      ],
      "source": [
        "li =[1,2,\"chiru\",4,5,6,7,7,7,7,4] #slicing method\n",
        "print(li[1:6])"
      ]
    },
    {
      "cell_type": "code",
      "execution_count": null,
      "metadata": {
        "colab": {
          "base_uri": "https://localhost:8080/"
        },
        "id": "TSk2n_XqOz0U",
        "outputId": "1bc0a2d2-dfd5-4b7e-dd76-5f568adfb0b9"
      },
      "outputs": [
        {
          "name": "stdout",
          "output_type": "stream",
          "text": [
            "[1, 2, 3, 4, 5, 'riuireu']\n"
          ]
        }
      ],
      "source": [
        "li1 =[1,2,3,4,5,\"riuireu\",\"hier\",9] #slicing method\n",
        "print(li1[0:6])"
      ]
    },
    {
      "cell_type": "code",
      "execution_count": null,
      "metadata": {
        "colab": {
          "base_uri": "https://localhost:8080/"
        },
        "id": "BomuLxJNP2_5",
        "outputId": "872ab5e8-cd99-4d44-ebe3-cc0a86dc9d68"
      },
      "outputs": [
        {
          "name": "stdout",
          "output_type": "stream",
          "text": [
            "tankam\n",
            "nalagangulla\n",
            "mca\n",
            "dict_keys(['chiru', 'mohan', 'chadalawada', 'bikes'])\n",
            "dict_items([('chiru', 'tankam'), ('mohan', 'nalagangulla'), ('chadalawada', 'mca'), ('bikes', ['r15', 'RE', 'pulsar', 'vespa'])])\n",
            "dict_values(['tankam', 'nalagangulla', 'mca', ['r15', 'RE', 'pulsar', 'vespa']])\n"
          ]
        }
      ],
      "source": [
        "my_dictionary = {\"chiru\":\"tankam\",\"mohan\":\"nalagangulla\",\"chadalawada\":\"mca\",\"bikes\":[\"r15\",\"RE\",\"pulsar\",\"vespa\"]}\n",
        "print(my_dictionary[\"chiru\"])\n",
        "print(my_dictionary[\"mohan\"])\n",
        "print(my_dictionary[\"chadalawada\"])\n",
        "print(my_dictionary.keys())        #use to call the keys\n",
        "print(my_dictionary.items())       #use to call the items\n",
        "print(my_dictionary.values())      #use to call the values"
      ]
    },
    {
      "cell_type": "code",
      "execution_count": null,
      "metadata": {
        "colab": {
          "base_uri": "https://localhost:8080/"
        },
        "id": "Xzk9HPhr1aDa",
        "outputId": "df2f7cd8-61b4-4c63-a7dc-909fa6814d29"
      },
      "outputs": [
        {
          "name": "stdout",
          "output_type": "stream",
          "text": [
            "chiru\n",
            "mohan\n",
            "chadalawada\n",
            "bikes\n"
          ]
        }
      ],
      "source": [
        "for i in my_dictionary.keys():\n",
        "  print(i)"
      ]
    },
    {
      "cell_type": "code",
      "execution_count": null,
      "metadata": {
        "colab": {
          "base_uri": "https://localhost:8080/"
        },
        "id": "Mi5hA74GgHy2",
        "outputId": "2a5bc150-bfac-41af-8ef9-3f577cbdad68"
      },
      "outputs": [
        {
          "name": "stdout",
          "output_type": "stream",
          "text": [
            "('chiru', 'tankam')\n",
            "('mohan', 'nalagangulla')\n",
            "('chadalawada', 'mca')\n",
            "('bikes', ['r15', 'RE', 'pulsar', 'vespa'])\n"
          ]
        }
      ],
      "source": [
        "for i in my_dictionary.items():\n",
        "  print(i)"
      ]
    },
    {
      "cell_type": "code",
      "execution_count": null,
      "metadata": {
        "colab": {
          "base_uri": "https://localhost:8080/",
          "height": 182
        },
        "id": "8kokzRjQgqlY",
        "outputId": "3d6d4e82-d1a9-4e0d-c61d-5ba4689e07f4"
      },
      "outputs": [
        {
          "output_type": "error",
          "ename": "NameError",
          "evalue": "ignored",
          "traceback": [
            "\u001b[0;31m---------------------------------------------------------------------------\u001b[0m",
            "\u001b[0;31mNameError\u001b[0m                                 Traceback (most recent call last)",
            "\u001b[0;32m<ipython-input-22-46d0b813cff4>\u001b[0m in \u001b[0;36m<module>\u001b[0;34m()\u001b[0m\n\u001b[0;32m----> 1\u001b[0;31m \u001b[0;32mfor\u001b[0m \u001b[0mi\u001b[0m \u001b[0;32min\u001b[0m \u001b[0mmy_dictionary\u001b[0m\u001b[0;34m.\u001b[0m\u001b[0mvalues\u001b[0m\u001b[0;34m(\u001b[0m\u001b[0;34m)\u001b[0m\u001b[0;34m:\u001b[0m\u001b[0;34m\u001b[0m\u001b[0;34m\u001b[0m\u001b[0m\n\u001b[0m\u001b[1;32m      2\u001b[0m   \u001b[0mprint\u001b[0m\u001b[0;34m(\u001b[0m\u001b[0mi\u001b[0m\u001b[0;34m)\u001b[0m\u001b[0;34m\u001b[0m\u001b[0;34m\u001b[0m\u001b[0m\n",
            "\u001b[0;31mNameError\u001b[0m: name 'my_dictionary' is not defined"
          ]
        }
      ],
      "source": [
        "for i in my_dictionary.values():\n",
        "  print(i)"
      ]
    },
    {
      "cell_type": "code",
      "execution_count": null,
      "metadata": {
        "colab": {
          "base_uri": "https://localhost:8080/"
        },
        "id": "GzODgh86hEez",
        "outputId": "41a65020-31b8-430f-bb2a-74161dda0df7"
      },
      "outputs": [
        {
          "data": {
            "text/plain": [
              "['r15', 'RE', 'pulsar', 'vespa']"
            ]
          },
          "execution_count": 24,
          "metadata": {},
          "output_type": "execute_result"
        }
      ],
      "source": [
        "my_dictionary[\"bikes\"]        #bikes is the key, ['r15', 'RE', 'pulsar', 'vespa'] are value"
      ]
    },
    {
      "cell_type": "code",
      "execution_count": null,
      "metadata": {
        "colab": {
          "base_uri": "https://localhost:8080/",
          "height": 35
        },
        "id": "is0uOxN5jSic",
        "outputId": "87aed820-aafb-482d-f05c-68c3d7fe0da0"
      },
      "outputs": [
        {
          "data": {
            "application/vnd.google.colaboratory.intrinsic+json": {
              "type": "string"
            },
            "text/plain": [
              "'pulsar'"
            ]
          },
          "execution_count": 25,
          "metadata": {},
          "output_type": "execute_result"
        }
      ],
      "source": [
        "my_dictionary[\"bikes\"][2]      "
      ]
    },
    {
      "cell_type": "code",
      "execution_count": null,
      "metadata": {
        "colab": {
          "base_uri": "https://localhost:8080/",
          "height": 35
        },
        "id": "rmcw4zWVkGfa",
        "outputId": "d64a3ee7-2964-4455-a1ee-fd6c5bf32c90"
      },
      "outputs": [
        {
          "data": {
            "application/vnd.google.colaboratory.intrinsic+json": {
              "type": "string"
            },
            "text/plain": [
              "'vespa'"
            ]
          },
          "execution_count": 26,
          "metadata": {},
          "output_type": "execute_result"
        }
      ],
      "source": [
        "my_dictionary[\"bikes\"][3]"
      ]
    },
    {
      "cell_type": "code",
      "execution_count": null,
      "metadata": {
        "id": "WW56m7r2kU3E"
      },
      "outputs": [],
      "source": [
        "my_dictionary[\"bikes\"][3]=\"pleasure\"    #update elememt"
      ]
    },
    {
      "cell_type": "code",
      "execution_count": null,
      "metadata": {
        "colab": {
          "base_uri": "https://localhost:8080/"
        },
        "id": "ruXWXzZJlSjh",
        "outputId": "20c071c7-bba8-42cc-b02b-e09e0325c65f"
      },
      "outputs": [
        {
          "name": "stdout",
          "output_type": "stream",
          "text": [
            "{'chiru': 'tankam', 'mohan': 'nalagangulla', 'chadalawada': 'mca', 'bikes': ['r15', 'RE', 'pulsar', 'pleasure']}\n"
          ]
        }
      ],
      "source": [
        "print(my_dictionary)"
      ]
    },
    {
      "cell_type": "code",
      "execution_count": null,
      "metadata": {
        "id": "rKo_OeqdljEE"
      },
      "outputs": [],
      "source": [
        "my_dictionary[\"bikes\"][2]=\"ismart\""
      ]
    },
    {
      "cell_type": "code",
      "execution_count": null,
      "metadata": {
        "colab": {
          "base_uri": "https://localhost:8080/"
        },
        "id": "cuDzeY2YmHTz",
        "outputId": "41421cc7-bfad-4b1c-8dad-11509e9aab85"
      },
      "outputs": [
        {
          "name": "stdout",
          "output_type": "stream",
          "text": [
            "{'chiru': 'tankam', 'mohan': 'nalagangulla', 'chadalawada': 'mca', 'bikes': ['r15', 'RE', 'ismart', 'pleasure']}\n"
          ]
        }
      ],
      "source": [
        "print(my_dictionary)"
      ]
    },
    {
      "cell_type": "code",
      "execution_count": null,
      "metadata": {
        "colab": {
          "base_uri": "https://localhost:8080/"
        },
        "id": "yRkde6oQn530",
        "outputId": "812af3db-ae78-4cf8-be37-343032618f58"
      },
      "outputs": [
        {
          "output_type": "stream",
          "name": "stdout",
          "text": [
            "please enter your mail idchiru\n",
            "enter you mailidchiru\n",
            "enter your password7878\n",
            "enter you mailidfghj\n",
            "enter your password678\n",
            "enter you mailidghj\n",
            "enter your password678\n",
            "enter you mailiddfd\n",
            "enter your password678\n",
            "{'chiru': '7878', 'fghj': '678', 'ghj': '678', 'dfd': '678'}\n"
          ]
        }
      ],
      "source": [
        "email_id =input(\"please enter your mail id\")\n",
        "\n",
        "dic ={}\n",
        "for i in range(4):#loop goes for three iterations each time the mail id and passward will be assignes as key and value pairs respectively\n",
        "  mail_id = input(\"enter you mailid\" )\n",
        "  password = input(\"enter your password\")\n",
        "  dic[mail_id] = password\n",
        "\n",
        "print(dic)"
      ]
    },
    {
      "cell_type": "code",
      "execution_count": null,
      "metadata": {
        "colab": {
          "base_uri": "https://localhost:8080/"
        },
        "id": "UcSYutbzug6H",
        "outputId": "87e798fa-b0a9-478a-e4fc-0d87c6c82b9d"
      },
      "outputs": [
        {
          "name": "stdout",
          "output_type": "stream",
          "text": [
            "raboyee \n",
            "enter your name pleasetyu\n",
            "enter your house number2\n",
            "enter your amount67\n",
            "{2: ['tyu', 67]}\n",
            "enter your name pleasetyui\n",
            "enter your house number1\n",
            "enter your amount679\n",
            "{2: ['tyu', 67], 1: ['tyui', 679]}\n",
            "enter your name pleaserty\n",
            "enter your house number3\n",
            "enter your amount674\n",
            "{2: ['tyu', 67], 1: ['tyui', 679], 3: ['rty', 674]}\n",
            "enter your name pleasetyu\n",
            "enter your house number678\n",
            "enter your amount780\n",
            "{2: ['tyu', 67], 1: ['tyui', 679], 3: ['rty', 674], 678: ['tyu', 780]}\n"
          ]
        }
      ],
      "source": [
        "print(\"raboyee \")\n",
        "house_holder_name = input(\"enter your name please\")\n",
        "house_no           = int(input(\"enter your house number\"))\n",
        "amount            = int(input(\"enter your amount\"))\n",
        "dic               = {}\n",
        "dic[house_no]=[house_holder_name,amount]\n",
        "print(dic)\n",
        "for i in range(3):    #we mention 3in range for 3times\n",
        "  house_holder_name = input(\"enter your name please\")\n",
        "  house_no          = int(input(\"enter your house number\"))\n",
        "  amount            = int(input(\"enter your amount\"))\n",
        "  dic[house_no] = [house_holder_name,amount]\n",
        "  print(dic)\n",
        "  \n"
      ]
    },
    {
      "cell_type": "code",
      "execution_count": null,
      "metadata": {
        "colab": {
          "base_uri": "https://localhost:8080/"
        },
        "id": "ijy4ruQ-5G1e",
        "outputId": "29e94752-8860-439f-8ae6-e25c04d83cf3"
      },
      "outputs": [
        {
          "name": "stdout",
          "output_type": "stream",
          "text": [
            "raboyee \n",
            "do want to go another housde(yes/no) : yes\n",
            "enter below details \n",
            "enter your name pleaseram\n",
            "enter your house number3\n",
            "enter your amount453\n",
            "do want to go another housde(yes/no) : yes\n",
            "enter below details \n",
            "enter your name pleaseyut\n",
            "enter your house number7\n",
            "enter your amount896\n",
            "do want to go another housde(yes/no) : no\n"
          ]
        }
      ],
      "source": [
        "print(\"raboyee \")\n",
        "dic2 = {}\n",
        "opinion = input(\"do want to go another housde(yes/no) : \")\n",
        "while opinion==\"yes\":\n",
        "  print(\"enter below details \")\n",
        "  house_holder_name = input(\"enter your name please\")\n",
        "  house_no          = int(input(\"enter your house number\"))\n",
        "  amount            = int(input(\"enter your amount\"))\n",
        "  dic2[house_no] = [house_holder_name,amount]\n",
        " # print(dic2)\n",
        "  opinion = input(\"do want to go another housde(yes/no) : \")\n",
        "print(dic2)"
      ]
    },
    {
      "cell_type": "code",
      "execution_count": null,
      "metadata": {
        "colab": {
          "base_uri": "https://localhost:8080/"
        },
        "id": "fA4bj7RjBdpX",
        "outputId": "8d32d897-6290-4c47-c680-4cf5b43b9ea3"
      },
      "outputs": [
        {
          "name": "stdout",
          "output_type": "stream",
          "text": [
            "{3: ['ram', 453], 7: ['yut', 896]}\n"
          ]
        }
      ],
      "source": [
        "print(dic2)"
      ]
    },
    {
      "cell_type": "code",
      "execution_count": null,
      "metadata": {
        "id": "fvWYTOJNA-hy"
      },
      "outputs": [],
      "source": [
        "key_list  = list(dic2.keys())"
      ]
    },
    {
      "cell_type": "code",
      "execution_count": null,
      "metadata": {
        "id": "gN1sTv1RG1Ou"
      },
      "outputs": [],
      "source": [
        "value_list  = list(dic2.values())"
      ]
    },
    {
      "cell_type": "code",
      "execution_count": null,
      "metadata": {
        "colab": {
          "base_uri": "https://localhost:8080/"
        },
        "id": "JfbCgWmyG1R4",
        "outputId": "6887e209-9df5-4327-c4b3-290b5f7d16ed"
      },
      "outputs": [
        {
          "data": {
            "text/plain": [
              "[3, 7]"
            ]
          },
          "execution_count": 75,
          "metadata": {},
          "output_type": "execute_result"
        }
      ],
      "source": [
        "key_list"
      ]
    },
    {
      "cell_type": "code",
      "execution_count": null,
      "metadata": {
        "colab": {
          "base_uri": "https://localhost:8080/"
        },
        "id": "uzyLXzT-HX3-",
        "outputId": "ca361ad0-2a06-4116-da08-90daf88613ba"
      },
      "outputs": [
        {
          "data": {
            "text/plain": [
              "[['ram', 453], ['yut', 896]]"
            ]
          },
          "execution_count": 76,
          "metadata": {},
          "output_type": "execute_result"
        }
      ],
      "source": [
        "value_list"
      ]
    },
    {
      "cell_type": "code",
      "execution_count": null,
      "metadata": {
        "colab": {
          "base_uri": "https://localhost:8080/"
        },
        "id": "7Jsy2QlWHlxQ",
        "outputId": "8aeb793a-36b6-4992-e9ce-50598c7b15c2"
      },
      "outputs": [
        {
          "data": {
            "text/plain": [
              "453"
            ]
          },
          "execution_count": 78,
          "metadata": {},
          "output_type": "execute_result"
        }
      ],
      "source": [
        "value_list[0][1]"
      ]
    },
    {
      "cell_type": "code",
      "execution_count": null,
      "metadata": {
        "colab": {
          "base_uri": "https://localhost:8080/"
        },
        "id": "8Sk2ncCBHl0m",
        "outputId": "3a07909d-b7ae-4fb9-a70f-f5916e1fa6d0"
      },
      "outputs": [
        {
          "data": {
            "text/plain": [
              "896"
            ]
          },
          "execution_count": 79,
          "metadata": {},
          "output_type": "execute_result"
        }
      ],
      "source": [
        "value_list[1][1]"
      ]
    },
    {
      "cell_type": "code",
      "execution_count": null,
      "metadata": {
        "colab": {
          "base_uri": "https://localhost:8080/"
        },
        "id": "W-yg0Bx3Hl4v",
        "outputId": "5784cbbb-54c7-4bb2-f3fe-d4f9dc424d30"
      },
      "outputs": [
        {
          "name": "stdout",
          "output_type": "stream",
          "text": [
            "1349\n"
          ]
        }
      ],
      "source": [
        "total_amount = 0         #loop goes for total amount collected from the village\n",
        "for i in range(len(key_list)): #loop goes for as many as keys\n",
        "  total_amount = total_amount + value_list[i][1] #in each iteration each values amount will be added to the total amount\n",
        "\n",
        "print(total_amount)\n"
      ]
    },
    {
      "cell_type": "code",
      "execution_count": null,
      "metadata": {
        "colab": {
          "base_uri": "https://localhost:8080/"
        },
        "id": "TmODaSj5LT_s",
        "outputId": "96036895-eea5-4788-daae-7bf01241993d"
      },
      "outputs": [
        {
          "output_type": "stream",
          "name": "stdout",
          "text": [
            "2 3\n",
            "<map object at 0x7fdc13d92350>\n"
          ]
        }
      ],
      "source": [
        "a,b = input().split(\" \")\n",
        "c = map(int,(a,b))\n",
        "print(c)\n",
        "\n"
      ]
    },
    {
      "cell_type": "code",
      "execution_count": null,
      "metadata": {
        "colab": {
          "base_uri": "https://localhost:8080/"
        },
        "id": "TWKZGDV3CYsK",
        "outputId": "0a238b4b-5acd-43e5-9c62-430e5491b285"
      },
      "outputs": [
        {
          "name": "stdout",
          "output_type": "stream",
          "text": [
            "length of the list is : 4\n",
            "[34, 56, 78, 84]\n"
          ]
        }
      ],
      "source": [
        "li = [34,56,78,84]    \n",
        "print(\"length of the list is :\",len(li))\n",
        "newli = []\n",
        "for i in range (len(li)):\n",
        "\n",
        "  newli.append(li[i]) #pushing elements into newli\n",
        "print(newli)"
      ]
    },
    {
      "cell_type": "code",
      "execution_count": null,
      "metadata": {
        "colab": {
          "base_uri": "https://localhost:8080/"
        },
        "id": "FXAbrtFQHFtP",
        "outputId": "ffe009cf-6b0b-440f-dbf8-27d8fed0d6a5"
      },
      "outputs": [
        {
          "name": "stdout",
          "output_type": "stream",
          "text": [
            "2 3 4 5 6\n",
            "['2', '3', '4', '5', '6']\n"
          ]
        }
      ],
      "source": [
        "maa = input().split(\" \") #split the elements with respective space\n",
        "print(maa)"
      ]
    },
    {
      "cell_type": "code",
      "execution_count": null,
      "metadata": {
        "colab": {
          "base_uri": "https://localhost:8080/"
        },
        "id": "LuOz05E3H_lj",
        "outputId": "c01abaf5-0b1e-409b-e4ae-e2fc250ddfa8"
      },
      "outputs": [
        {
          "name": "stdout",
          "output_type": "stream",
          "text": [
            "10\n",
            "10\n",
            "9\n",
            "8\n",
            "7\n",
            "6\n",
            "5\n",
            "4\n",
            "3\n",
            "2\n",
            "1\n"
          ]
        }
      ],
      "source": [
        "num = int(input())\n",
        "for i in range (num,0,-1):\n",
        "  print(i)   #knowing the range of data from reverse"
      ]
    },
    {
      "cell_type": "code",
      "execution_count": null,
      "metadata": {
        "colab": {
          "base_uri": "https://localhost:8080/"
        },
        "id": "47tmtxK0M6io",
        "outputId": "5f2c2c10-c0d8-479b-a390-6dcd1feedb8b"
      },
      "outputs": [
        {
          "output_type": "stream",
          "name": "stdout",
          "text": [
            "10\n",
            "12\n",
            "14\n",
            "16\n",
            "18\n"
          ]
        }
      ],
      "source": [
        "for i in range (10,20,2):    #using step size (2)\n",
        "  print(i)"
      ]
    },
    {
      "cell_type": "code",
      "execution_count": null,
      "metadata": {
        "colab": {
          "base_uri": "https://localhost:8080/"
        },
        "id": "PzSgjNmLHl78",
        "outputId": "8f1dce1c-bbf1-4f97-9f98-76002126b9ca"
      },
      "outputs": [
        {
          "output_type": "stream",
          "name": "stdout",
          "text": [
            "87\n",
            "odd\n"
          ]
        }
      ],
      "source": [
        "#way to know the data even or odd\n",
        "num = int(input())\n",
        "if num%2 == 0:\n",
        "  print(\"even\")    \n",
        "else:\n",
        "  print(\"odd\")"
      ]
    },
    {
      "cell_type": "code",
      "execution_count": null,
      "metadata": {
        "colab": {
          "base_uri": "https://localhost:8080/"
        },
        "id": "s3tDxGQOWi7k",
        "outputId": "c9bdcfca-4375-4ba2-9498-62f8eda4a8b6"
      },
      "outputs": [
        {
          "output_type": "stream",
          "name": "stdout",
          "text": [
            "242455373\n",
            "['2', '4', '2', '4', '5', '5', '3', '7', '3']\n",
            "[2, 4, 2, 4, 5, 5, 3, 7, 3]\n",
            "2 2 4 4\n",
            "3 3 5 5 7\n"
          ]
        }
      ],
      "source": [
        "data = list(input())\n",
        "print(data)   # string elements inside the list\n",
        "li =[int(data[i]) for i in range(len(data))]\n",
        "print(li)     # integers elements inside list\n",
        "even = []\n",
        "odd  = []\n",
        "for i in range(len(li)):\n",
        "  if (li[i]%2 == 0):\n",
        "    even.append(li[i])\n",
        "  else:\n",
        "    odd.append(li[i])\n",
        "even.sort()\n",
        "odd.sort()\n",
        "print(*even)      #\"*\"unpack\n",
        "print(*odd)"
      ]
    },
    {
      "cell_type": "code",
      "source": [],
      "metadata": {
        "colab": {
          "base_uri": "https://localhost:8080/"
        },
        "id": "6Z0mh78jr2_X",
        "outputId": "82fe725e-8bb7-44fa-cf4d-51e8cc3d0718"
      },
      "execution_count": null,
      "outputs": [
        {
          "output_type": "stream",
          "name": "stdout",
          "text": [
            "345667\n",
            "[3, 4, 5, 6, 6, 7]\n"
          ]
        }
      ]
    },
    {
      "cell_type": "code",
      "execution_count": null,
      "metadata": {
        "colab": {
          "base_uri": "https://localhost:8080/"
        },
        "id": "BndC6o4saFjR",
        "outputId": "20891ca9-6a93-4274-f66c-d3ddcda58f17"
      },
      "outputs": [
        {
          "name": "stdout",
          "output_type": "stream",
          "text": [
            "this is\n",
            "h\n"
          ]
        }
      ],
      "source": [
        "#how to call particular element \n",
        "info = input()\n",
        "print(info[1])"
      ]
    },
    {
      "cell_type": "code",
      "execution_count": null,
      "metadata": {
        "colab": {
          "base_uri": "https://localhost:8080/"
        },
        "id": "-MIGAAYq2tOA",
        "outputId": "2af826e0-dc0a-4b05-c865-73f03e7d8b36"
      },
      "outputs": [
        {
          "name": "stdout",
          "output_type": "stream",
          "text": [
            "chiru\n",
            "chiru\n"
          ]
        }
      ],
      "source": [
        "info =input()\n",
        "print(info)"
      ]
    },
    {
      "cell_type": "code",
      "execution_count": null,
      "metadata": {
        "colab": {
          "base_uri": "https://localhost:8080/"
        },
        "id": "NPTO5Ozz5JAr",
        "outputId": "e561dff2-5a2a-4986-936d-478a70ca766c"
      },
      "outputs": [
        {
          "name": "stdout",
          "output_type": "stream",
          "text": [
            "s\n"
          ]
        }
      ],
      "source": [
        "data =\"sherlok\" #call the letter which you want,if it is the strig even space matters\n",
        "print(data[0])"
      ]
    },
    {
      "cell_type": "code",
      "execution_count": null,
      "metadata": {
        "colab": {
          "base_uri": "https://localhost:8080/"
        },
        "id": "uWK9YrP55ZGN",
        "outputId": "89b33cad-aadc-4de7-d775-a8dc03715263"
      },
      "outputs": [
        {
          "name": "stdout",
          "output_type": "stream",
          "text": [
            "this is me\n",
            "10\n"
          ]
        }
      ],
      "source": [
        "data = input() #to know the length\n",
        "print(len(data))"
      ]
    },
    {
      "cell_type": "code",
      "execution_count": null,
      "metadata": {
        "colab": {
          "base_uri": "https://localhost:8080/"
        },
        "id": "RWTqWeUS7iGW",
        "outputId": "eccc16e2-375c-4b50-bae5-12d1ae403b73"
      },
      "outputs": [
        {
          "name": "stdout",
          "output_type": "stream",
          "text": [
            "tis is me\n",
            "['tis', 'is', 'me']\n"
          ]
        }
      ],
      "source": [
        "a = input().split(\" \") #first we cut the data with respected space using split(\"\")\n",
        "\n",
        "print(a)              # than it becomes list"
      ]
    },
    {
      "cell_type": "code",
      "execution_count": null,
      "metadata": {
        "colab": {
          "base_uri": "https://localhost:8080/"
        },
        "id": "ZXM1f-Wf9fTF",
        "outputId": "6f22bfc5-c66d-42eb-963c-274f57afd859"
      },
      "outputs": [
        {
          "name": "stdout",
          "output_type": "stream",
          "text": [
            "23 4 5 67 89\n",
            "[23, 4, 5, 67, 89]\n"
          ]
        }
      ],
      "source": [
        "arr = list(map(int,input().split(\" \")))\n",
        "print(arr)"
      ]
    },
    {
      "cell_type": "code",
      "execution_count": null,
      "metadata": {
        "colab": {
          "base_uri": "https://localhost:8080/"
        },
        "id": "Yl0eDAftZ-AR",
        "outputId": "14d7de2b-91cf-42d9-bbbd-001487e552a6"
      },
      "outputs": [
        {
          "name": "stdout",
          "output_type": "stream",
          "text": [
            "0\n",
            "1\n",
            "2\n",
            "3\n",
            "4\n",
            "5\n",
            "6\n",
            "7\n",
            "8\n",
            "9\n"
          ]
        }
      ],
      "source": [
        "for i in range(10):\n",
        "  print(i)"
      ]
    },
    {
      "cell_type": "code",
      "execution_count": null,
      "metadata": {
        "colab": {
          "base_uri": "https://localhost:8080/"
        },
        "id": "SHXB3-28aMfe",
        "outputId": "6d8aaea5-a9a3-4195-c243-00420e2a8648"
      },
      "outputs": [
        {
          "name": "stdout",
          "output_type": "stream",
          "text": [
            "[0, 1, 2, 3, 4, 5, 6, 7, 8, 9, 10, 11]\n"
          ]
        }
      ],
      "source": [
        "li =[]            #take an empty list and pushing the data which is in i...\n",
        "for i in range(12):#....by using append function\n",
        "  li.append(i)\n",
        "print(li)           #print(li).....?"
      ]
    },
    {
      "cell_type": "code",
      "execution_count": null,
      "metadata": {
        "colab": {
          "base_uri": "https://localhost:8080/"
        },
        "id": "lDNmWf9Gczwi",
        "outputId": "0e9cee9a-9697-49b7-e1d6-2774c0eaeeb4"
      },
      "outputs": [
        {
          "name": "stdout",
          "output_type": "stream",
          "text": [
            " 0 1 2 3 4 5 6 7 8 9 10 11 12 13 14 15 16 17 18 19 20 21 22\n"
          ]
        }
      ],
      "source": [
        "li = []\n",
        "st = \"\"\n",
        "for i in range(23):       #doubt\n",
        "  st = st + \" \" + str(i)   # \"=\" the right hand side operation will happen and left hand side variable will store the data\n",
        "print(st)"
      ]
    },
    {
      "cell_type": "code",
      "execution_count": null,
      "metadata": {
        "colab": {
          "base_uri": "https://localhost:8080/"
        },
        "id": "3YysxzCrcKpx",
        "outputId": "5c4b57bf-7092-4ac5-8f17-2128891fea02"
      },
      "outputs": [
        {
          "name": "stdout",
          "output_type": "stream",
          "text": [
            " 0\n",
            " 0 1\n",
            " 0 1 2\n",
            " 0 1 2 3\n",
            " 0 1 2 3 4\n",
            " 0 1 2 3 4 5\n",
            " 0 1 2 3 4 5 6\n",
            " 0 1 2 3 4 5 6 7\n",
            " 0 1 2 3 4 5 6 7 8\n",
            " 0 1 2 3 4 5 6 7 8 9\n",
            " 0 1 2 3 4 5 6 7 8 9 10\n",
            " 0 1 2 3 4 5 6 7 8 9 10 11\n"
          ]
        }
      ],
      "source": [
        "st =\"\"\n",
        "for i in range(12):\n",
        "  st = st + \" \"+ str(i)\n",
        "  print(st)"
      ]
    },
    {
      "cell_type": "code",
      "execution_count": null,
      "metadata": {
        "colab": {
          "base_uri": "https://localhost:8080/"
        },
        "id": "J3xCdJEwniba",
        "outputId": "f8b3058f-a5a6-4a91-a022-0d4bdc816145"
      },
      "outputs": [
        {
          "name": "stdout",
          "output_type": "stream",
          "text": [
            "3\n"
          ]
        }
      ],
      "source": [
        "# using conditional statement\n",
        "a = 1\n",
        "b = 2\n",
        "c = 3\n",
        "if a>b and a>c:\n",
        "  print(a)\n",
        "elif b>a and b>c:\n",
        "  print(b)\n",
        "else:\n",
        "  print(c)\n"
      ]
    },
    {
      "cell_type": "code",
      "execution_count": null,
      "metadata": {
        "colab": {
          "base_uri": "https://localhost:8080/"
        },
        "id": "GJjzr_FereSM",
        "outputId": "656b2370-6f6f-4550-c85b-bf4dd6a6a28c"
      },
      "outputs": [
        {
          "name": "stdout",
          "output_type": "stream",
          "text": [
            "23.56\n"
          ]
        }
      ],
      "source": [
        "data = 23.55555\n",
        "#round of 2 decemal places\n",
        "print(round(data,2))"
      ]
    },
    {
      "cell_type": "code",
      "execution_count": null,
      "metadata": {
        "colab": {
          "base_uri": "https://localhost:8080/"
        },
        "id": "RCi_PI8OuZ79",
        "outputId": "6775fd36-a1a7-482c-9789-1f33d7b6194e"
      },
      "outputs": [
        {
          "name": "stdout",
          "output_type": "stream",
          "text": [
            "1000 2 5\n",
            "100.0\n"
          ]
        }
      ],
      "source": [
        "arr = list(map(float,input().split(\" \")))\n",
        "si = (arr[0]*arr[1]*arr[2])/100\n",
        "print(round(si,2))     #doubt S.i=p*T*r/100"
      ]
    },
    {
      "cell_type": "code",
      "execution_count": null,
      "metadata": {
        "colab": {
          "base_uri": "https://localhost:8080/"
        },
        "id": "5hgcj0We8ZCK",
        "outputId": "da2622e5-649d-4202-b5dc-38f0a3fbb787"
      },
      "outputs": [
        {
          "name": "stdout",
          "output_type": "stream",
          "text": [
            "i'm a geek\n",
            "<class 'str'>\n"
          ]
        }
      ],
      "source": [
        "name = \"i'm a geek\" \n",
        "print(name)\n",
        "print(type(name))"
      ]
    },
    {
      "cell_type": "code",
      "execution_count": null,
      "metadata": {
        "colab": {
          "base_uri": "https://localhost:8080/"
        },
        "id": "cJabWRr589VX",
        "outputId": "79ab5603-84f5-467b-896c-e963eb39c488"
      },
      "outputs": [
        {
          "name": "stdout",
          "output_type": "stream",
          "text": [
            "200\n"
          ]
        }
      ],
      "source": [
        "cart =[10,20,500,60,200]        \n",
        "for i in cart:            #doubt\n",
        "  if i>500:\n",
        "    print(\"shoping budget\")\n",
        "    break\n",
        "print(i)\n",
        "    "
      ]
    },
    {
      "cell_type": "code",
      "execution_count": null,
      "metadata": {
        "colab": {
          "base_uri": "https://localhost:8080/"
        },
        "id": "Qt6XX5kaDku5",
        "outputId": "ff807593-1a13-4a9f-817f-9349f0ef27e3"
      },
      "outputs": [
        {
          "name": "stdout",
          "output_type": "stream",
          "text": [
            "shoping budget\n",
            "500\n"
          ]
        }
      ],
      "source": [
        "cart =[10,20,30,500,200]\n",
        "for i in cart:\n",
        "  if i>=500:\n",
        "    print(\"shoping budget\")\n",
        "    break \n",
        "print(i)\n"
      ]
    },
    {
      "cell_type": "code",
      "execution_count": null,
      "metadata": {
        "colab": {
          "base_uri": "https://localhost:8080/"
        },
        "id": "o6ixLYzLDP1G",
        "outputId": "2cbecfaf-5323-4462-b16e-fc4fd8ef0d71"
      },
      "outputs": [
        {
          "name": "stdout",
          "output_type": "stream",
          "text": [
            "0\n",
            "1\n",
            "2\n",
            "3\n",
            "4\n"
          ]
        }
      ],
      "source": [
        "for i in range(10):\n",
        "  if i>=5:\n",
        "    break\n",
        "  print(i)\n"
      ]
    },
    {
      "cell_type": "code",
      "execution_count": null,
      "metadata": {
        "colab": {
          "base_uri": "https://localhost:8080/"
        },
        "id": "zbsyCfyPFt27",
        "outputId": "7f6995dd-da09-4353-f4c4-cd9716d0b3b5"
      },
      "outputs": [
        {
          "name": "stdout",
          "output_type": "stream",
          "text": [
            "0\n",
            "1\n",
            "2\n",
            "3\n",
            "4\n",
            "5\n",
            "6\n",
            "7\n",
            "8\n",
            "9\n"
          ]
        }
      ],
      "source": [
        "for i in range (10):\n",
        "    print(i)\n"
      ]
    },
    {
      "cell_type": "code",
      "execution_count": null,
      "metadata": {
        "colab": {
          "base_uri": "https://localhost:8080/"
        },
        "id": "gBGQeP2X-hrv",
        "outputId": "4f0ee7d9-755f-425c-f016-ffcda1002976"
      },
      "outputs": [
        {
          "output_type": "stream",
          "name": "stdout",
          "text": [
            "enter data succesfully\n"
          ]
        }
      ],
      "source": [
        "file = open(\"chiru.text\",\"w\")  #file handling\n",
        "file.write('my name is chiru')\n",
        "print(\"enter data succesfully\")\n",
        "file.close()\n",
        "\n"
      ]
    },
    {
      "cell_type": "code",
      "source": [
        "#write a code to get an integer N and print the even values from 1 tilln in a speparateline\n",
        "data = int(input())\n",
        "for i in range(2,data+1):\n",
        "  if i%2==0:\n",
        "    print(i)"
      ],
      "metadata": {
        "colab": {
          "base_uri": "https://localhost:8080/"
        },
        "id": "As2H4_xetuq-",
        "outputId": "e7269e9f-1ac1-424b-c86b-d5babe517b56"
      },
      "execution_count": null,
      "outputs": [
        {
          "output_type": "stream",
          "name": "stdout",
          "text": [
            "10\n",
            "2\n",
            "4\n",
            "6\n",
            "8\n",
            "10\n"
          ]
        }
      ]
    },
    {
      "cell_type": "code",
      "source": [
        "#write a code get an integer number as input and printthe sum of the digits\n",
        "num = list(map(int,input()))\n",
        "sum = 0\n",
        "for i in range(len(num)):\n",
        "    sum =sum +num[i]\n",
        "    print(sum)\n"
      ],
      "metadata": {
        "colab": {
          "base_uri": "https://localhost:8080/"
        },
        "id": "MneqBOqXvBhY",
        "outputId": "dbf64238-4ab2-493a-f102-d2cf3d423965"
      },
      "execution_count": null,
      "outputs": [
        {
          "output_type": "stream",
          "name": "stdout",
          "text": [
            "124\n",
            "1\n",
            "3\n",
            "7\n"
          ]
        }
      ]
    },
    {
      "cell_type": "code",
      "source": [
        "#write a code to get an integer N and print the values from N to 1\n",
        "m = int(input())\n",
        "for i in range(m,0,-1):\n",
        "    print(i)"
      ],
      "metadata": {
        "colab": {
          "base_uri": "https://localhost:8080/"
        },
        "id": "fQA3ShTjzHSM",
        "outputId": "b67f729f-749b-4d18-d534-f98f091c87db"
      },
      "execution_count": null,
      "outputs": [
        {
          "output_type": "stream",
          "name": "stdout",
          "text": [
            "10\n",
            "10\n",
            "9\n",
            "8\n",
            "7\n",
            "6\n",
            "5\n",
            "4\n",
            "3\n",
            "2\n",
            "1\n"
          ]
        }
      ]
    },
    {
      "cell_type": "code",
      "source": [
        "#write a code to get the input and print it 5 times\n",
        "y = int(input())\n",
        "for i in range(5):\n",
        "    print(y)"
      ],
      "metadata": {
        "colab": {
          "base_uri": "https://localhost:8080/"
        },
        "id": "5bjJHaRP0gHq",
        "outputId": "92444896-73e9-4176-ef9f-2179db36e5df"
      },
      "execution_count": null,
      "outputs": [
        {
          "output_type": "stream",
          "name": "stdout",
          "text": [
            "6\n",
            "6\n",
            "6\n",
            "6\n",
            "6\n",
            "6\n"
          ]
        }
      ]
    },
    {
      "cell_type": "code",
      "source": [
        "#write a programe to get a string as input and reverse the string without using temporary variable.                                         \n",
        "g=input()\n",
        "print(g[::-1])"
      ],
      "metadata": {
        "colab": {
          "base_uri": "https://localhost:8080/"
        },
        "id": "zUVYwuIp14BD",
        "outputId": "36d87e78-37bf-47d1-8883-83f052ea004b"
      },
      "execution_count": null,
      "outputs": [
        {
          "output_type": "stream",
          "name": "stdout",
          "text": [
            "chiru\n",
            "urihc\n"
          ]
        }
      ]
    },
    {
      "cell_type": "code",
      "source": [
        "#you are provided with two numbers.find and print the smaller number\n",
        "v = list(map(int,input().split(\" \")))\n",
        "if v[0]<v[1]:\n",
        "  print(v[0])\n",
        "else:\n",
        "  print(v[1])"
      ],
      "metadata": {
        "colab": {
          "base_uri": "https://localhost:8080/"
        },
        "id": "vj0uHbu44Dco",
        "outputId": "5ede715b-eba7-4d6e-92d7-cbed9cb61da7"
      },
      "execution_count": null,
      "outputs": [
        {
          "output_type": "stream",
          "name": "stdout",
          "text": [
            "23 1\n",
            "1\n"
          ]
        }
      ]
    },
    {
      "cell_type": "code",
      "source": [
        "n = int(input())\n",
        "print(n*n)"
      ],
      "metadata": {
        "colab": {
          "base_uri": "https://localhost:8080/"
        },
        "id": "OXC0RRn97UBE",
        "outputId": "fa47d07e-7f01-4bb5-dbf7-447347476f8d"
      },
      "execution_count": null,
      "outputs": [
        {
          "output_type": "stream",
          "name": "stdout",
          "text": [
            "18\n",
            "324\n"
          ]
        }
      ]
    },
    {
      "cell_type": "code",
      "source": [
        "data = input().split(\" \")\n",
        "#print(data) ['mohan', 'yadav']\n",
        "c = \"\".join(data)\n",
        "print(len(c))\n",
        "\n"
      ],
      "metadata": {
        "colab": {
          "base_uri": "https://localhost:8080/"
        },
        "id": "S2VGOYdJ8J-y",
        "outputId": "4a919a83-8cbe-449b-f551-6ff4c665aa00"
      },
      "execution_count": null,
      "outputs": [
        {
          "output_type": "stream",
          "name": "stdout",
          "text": [
            "loremipsum\n",
            "10\n"
          ]
        }
      ]
    },
    {
      "cell_type": "code",
      "source": [
        "#you are given three numbers A,B & C.print the largest amongst these three numbers.\n",
        "x = int(input())\n",
        "y = int(input())\n",
        "z = int(input())\n",
        "print(max(x,y,z))"
      ],
      "metadata": {
        "colab": {
          "base_uri": "https://localhost:8080/"
        },
        "id": "B0yFTwoJvodh",
        "outputId": "579adb87-2669-46da-8222-0e40252e8f4d"
      },
      "execution_count": null,
      "outputs": [
        {
          "output_type": "stream",
          "name": "stdout",
          "text": [
            "1\n",
            "2\n",
            "3\n",
            "3\n"
          ]
        }
      ]
    },
    {
      "cell_type": "code",
      "source": [
        "#write a code to get 2 integer A. second line contains an integer N\n",
        "a,b = map(int,input().split(\" \"))\n",
        "for i in range (b):\n",
        "\n",
        "  print(a)"
      ],
      "metadata": {
        "colab": {
          "base_uri": "https://localhost:8080/"
        },
        "id": "J3xhssGC3knv",
        "outputId": "a18bfdb3-2b30-47e9-b5a3-361014a710f0"
      },
      "execution_count": null,
      "outputs": [
        {
          "output_type": "stream",
          "name": "stdout",
          "text": [
            "2 3\n",
            "2\n",
            "2\n",
            "2\n"
          ]
        }
      ]
    },
    {
      "cell_type": "code",
      "source": [
        "#alphabetically sorted set of strings\n",
        "n     =  int(input())\n",
        "\n",
        "stArr = input().split(\" \")\n",
        "\n",
        "stArr.sort()\n",
        "\n",
        "print(*stArr)\n",
        "\n"
      ],
      "metadata": {
        "colab": {
          "base_uri": "https://localhost:8080/"
        },
        "id": "siVkVglF6mrP",
        "outputId": "4a711d72-cd24-4a93-fc71-dd48a0affa78"
      },
      "execution_count": null,
      "outputs": [
        {
          "output_type": "stream",
          "name": "stdout",
          "text": [
            "3\n",
            "InfinityWar EndGame Avengers\n",
            "Avengers EndGame InfinityWar\n"
          ]
        }
      ]
    },
    {
      "cell_type": "code",
      "source": [
        "num = list(input().split(\" \"))\n",
        "print(num[])"
      ],
      "metadata": {
        "colab": {
          "base_uri": "https://localhost:8080/"
        },
        "id": "vEeEcTSBfV7Q",
        "outputId": "2bb3594a-a762-4b9d-ea33-c0fa6b2a6f3b"
      },
      "execution_count": null,
      "outputs": [
        {
          "output_type": "stream",
          "name": "stdout",
          "text": [
            "I was born on 12 october 1998\n",
            "1998\n"
          ]
        }
      ]
    },
    {
      "cell_type": "code",
      "source": [
        "a = input()\n",
        "print(len(a))"
      ],
      "metadata": {
        "colab": {
          "base_uri": "https://localhost:8080/"
        },
        "id": "f2id9GsYhfK7",
        "outputId": "e6d9d72e-64ad-4724-e86c-4500af93425f"
      },
      "execution_count": null,
      "outputs": [
        {
          "output_type": "stream",
          "name": "stdout",
          "text": [
            "chiruthe great\n",
            "14\n"
          ]
        }
      ]
    },
    {
      "cell_type": "code",
      "source": [
        "#print the string in sorted order\n",
        "starr = input().split(\" \")\n",
        "\n",
        "starr.sort()\n",
        "\n",
        "print(*starr)"
      ],
      "metadata": {
        "colab": {
          "base_uri": "https://localhost:8080/"
        },
        "id": "xQ7g-AbUl4Fp",
        "outputId": "8fa867e0-b5f4-48f2-c59b-9e57a2163969"
      },
      "execution_count": null,
      "outputs": [
        {
          "output_type": "stream",
          "name": "stdout",
          "text": [
            "mohan yadav\n",
            "mohan yadav\n"
          ]
        }
      ]
    },
    {
      "cell_type": "code",
      "source": [
        "#print the string in sorted order\n",
        "a = input().split(\" \")\n",
        "v =reversed(a)\n",
        "print(\" \".join(v))"
      ],
      "metadata": {
        "colab": {
          "base_uri": "https://localhost:8080/"
        },
        "id": "LxxWDMHvmar_",
        "outputId": "63beeef4-f424-4dea-fc6b-2620fe7596b9"
      },
      "execution_count": null,
      "outputs": [
        {
          "output_type": "stream",
          "name": "stdout",
          "text": [
            "virat kohli\n",
            "kohli virat\n"
          ]
        }
      ]
    },
    {
      "cell_type": "code",
      "source": [
        "num = int(input(\"enter your number\"))\n",
        "count = 0\n",
        "for i in range (1,num+1):\n",
        "  if num%i==0:\n",
        "    count = count+1\n",
        "  if count==2:\n",
        "    print(\"prime number\")\n",
        "  else:\n",
        "    print(\"not a prime num\")\n"
      ],
      "metadata": {
        "colab": {
          "base_uri": "https://localhost:8080/"
        },
        "id": "Ikk7uAekdSmY",
        "outputId": "6d6e4051-b7a5-4e4e-84c5-03c4ce0bbbd7"
      },
      "execution_count": null,
      "outputs": [
        {
          "output_type": "stream",
          "name": "stdout",
          "text": [
            "enter your number9\n",
            "not a prime num\n",
            "not a prime num\n",
            "prime number\n",
            "prime number\n",
            "prime number\n",
            "prime number\n",
            "prime number\n",
            "prime number\n",
            "not a prime num\n"
          ]
        }
      ]
    },
    {
      "cell_type": "code",
      "source": [
        "num = \"5 4 3 6 10 7 8 9\"\n",
        "x   = num.split()\n",
        "print(min(x))"
      ],
      "metadata": {
        "colab": {
          "base_uri": "https://localhost:8080/"
        },
        "id": "xYLF33hmnGiq",
        "outputId": "ec3ddbb7-a5a8-4e9d-f0ff-4c6a6b4bbff7"
      },
      "execution_count": null,
      "outputs": [
        {
          "output_type": "stream",
          "name": "stdout",
          "text": [
            "10\n"
          ]
        }
      ]
    },
    {
      "cell_type": "code",
      "source": [
        "#reverse the given string\n",
        "data = input()\n",
        "num  = reversed(data)\n",
        "\n",
        "print(\"\".join(num))"
      ],
      "metadata": {
        "colab": {
          "base_uri": "https://localhost:8080/"
        },
        "id": "_aarkITkqEBk",
        "outputId": "bfcfe864-e96b-46d1-ef96-9969c410fa36"
      },
      "execution_count": null,
      "outputs": [
        {
          "output_type": "stream",
          "name": "stdout",
          "text": [
            "guvigeeks\n",
            "skeegivug\n"
          ]
        }
      ]
    },
    {
      "cell_type": "code",
      "source": [
        "num = int(input())\n",
        "count = 0\n",
        "for i in range(1,num+1):\n",
        "  if num%i==0:   #7%1 7%2 7%3....\n",
        "    count = count + 1\n",
        "  \n",
        "if count == 2:\n",
        "  print(\"prime\")\n",
        "else:\n",
        "  print(\"composite\")\n",
        "\n"
      ],
      "metadata": {
        "colab": {
          "base_uri": "https://localhost:8080/"
        },
        "id": "_ydECNJBtpPZ",
        "outputId": "5324c2d6-9b24-4716-a504-49b8f6b82c26"
      },
      "execution_count": null,
      "outputs": [
        {
          "output_type": "stream",
          "name": "stdout",
          "text": [
            "13\n",
            "prime\n"
          ]
        }
      ]
    },
    {
      "cell_type": "code",
      "source": [
        "number = int(input())\n",
        "count = 0\n",
        "for i in range(1,number+1):\n",
        "  if number%i==0:\n",
        "    count = count + 1\n",
        "\n",
        "if count == 2:\n",
        "  print(\"prime\")\n",
        "else:\n",
        "  print(\"composite\")\n",
        "  \n",
        "  \n",
        "\n"
      ],
      "metadata": {
        "colab": {
          "base_uri": "https://localhost:8080/"
        },
        "id": "9XELxZ2lEcYy",
        "outputId": "d3e3c2cb-c126-42d1-ec45-61af18db0faf"
      },
      "execution_count": null,
      "outputs": [
        {
          "output_type": "stream",
          "name": "stdout",
          "text": [
            "7\n",
            "prime\n"
          ]
        }
      ]
    },
    {
      "cell_type": "code",
      "source": [
        "number1 = int(input())\n",
        "count = 0\n",
        "for i in range(1,number1+1):\n",
        "  if number1%i==0:\n",
        "    count = count + 1\n",
        "  if count == 2:\n",
        "    print(\"prime\")\n",
        "  else:\n",
        "    print(\"composite\")\n",
        "\n"
      ],
      "metadata": {
        "colab": {
          "base_uri": "https://localhost:8080/"
        },
        "id": "qgH6wpiRGupN",
        "outputId": "c3a2126b-fb25-4143-9366-ae15298fb646"
      },
      "execution_count": null,
      "outputs": [
        {
          "output_type": "stream",
          "name": "stdout",
          "text": [
            "7\n",
            "composite\n",
            "composite\n",
            "composite\n",
            "composite\n",
            "composite\n",
            "composite\n",
            "prime\n"
          ]
        }
      ]
    },
    {
      "cell_type": "code",
      "source": [
        "num1 = int(input())\n",
        "count = 0\n",
        "for i in range (1,num1+1):\n",
        "  if num1%i==0:\n",
        "    count = count + 1\n",
        "  if count == 2:\n",
        "    print(\"prime\")\n",
        "  else:\n",
        "    print(\"composite\")"
      ],
      "metadata": {
        "colab": {
          "base_uri": "https://localhost:8080/"
        },
        "id": "-hngIttUJ3Bf",
        "outputId": "cb475d8a-87df-4784-b16e-6060985ce5d9"
      },
      "execution_count": null,
      "outputs": [
        {
          "output_type": "stream",
          "name": "stdout",
          "text": [
            "9\n",
            "composite\n",
            "composite\n",
            "prime\n",
            "prime\n",
            "prime\n",
            "prime\n",
            "prime\n",
            "prime\n",
            "composite\n"
          ]
        }
      ]
    },
    {
      "cell_type": "code",
      "source": [],
      "metadata": {
        "id": "LgIUmu_RY1Qv"
      },
      "execution_count": null,
      "outputs": []
    },
    {
      "cell_type": "code",
      "source": [
        "num3 = int(input())\n",
        "count = 0\n",
        "for i in range(1,num3+1):\n",
        "  if num3%i==0:\n",
        "     count=count + 1\n",
        "     \n",
        "#if count == 2:\n",
        "  #print(\"prime\")\n",
        "#else:\n",
        "  #print(\"composite\")\n",
        "\n"
      ],
      "metadata": {
        "id": "ynsjbRqJMCKt",
        "colab": {
          "base_uri": "https://localhost:8080/"
        },
        "outputId": "888ecdc6-a3ae-4122-f723-ff0edc0907b0"
      },
      "execution_count": null,
      "outputs": [
        {
          "output_type": "stream",
          "name": "stdout",
          "text": [
            "17\n",
            "prime\n"
          ]
        }
      ]
    },
    {
      "cell_type": "code",
      "source": [
        "digit = int(input())\n",
        "count = 0\n",
        "for i in range(1,digit+1):\n",
        "  if digit%i==0:\n",
        "     count = count + 1\n",
        "if count==3:\n",
        "  print(\"composite\")\n",
        "else:\n",
        "  print(\"prime\")\n"
      ],
      "metadata": {
        "colab": {
          "base_uri": "https://localhost:8080/"
        },
        "id": "ZtsGaCaBXBdj",
        "outputId": "c5c3b92a-2c99-4102-c118-fb8acf08b0be"
      },
      "execution_count": null,
      "outputs": [
        {
          "output_type": "stream",
          "name": "stdout",
          "text": [
            "15\n",
            "prime\n"
          ]
        }
      ]
    },
    {
      "cell_type": "markdown",
      "source": [],
      "metadata": {
        "id": "wPc_h3xBvgJR"
      }
    },
    {
      "cell_type": "code",
      "source": [
        "a  = int (input()) \n",
        "b  = int (input())\n",
        "c  = int (input())\n",
        "perimeter = a+b+c\n",
        "7\n",
        "print(perimeter\n",
        "      )"
      ],
      "metadata": {
        "colab": {
          "base_uri": "https://localhost:8080/"
        },
        "id": "dkLUSdyRvhj6",
        "outputId": "2c58b09b-5128-4bb8-d28f-c4f71958f22c"
      },
      "execution_count": null,
      "outputs": [
        {
          "name": "stdout",
          "output_type": "stream",
          "text": [
            "5\n",
            "6\n",
            "9\n"
          ]
        }
      ]
    },
    {
      "cell_type": "code",
      "source": [
        "a = int (input('enter yor number:'))\n",
        "b = int (input('enter your number:'))\n",
        "c = int (input('enter your number:'))\n",
        "perimeter = a + b + C\n",
        "print(perimeter)\n"
      ],
      "metadata": {
        "colab": {
          "base_uri": "https://localhost:8080/",
          "height": 269
        },
        "id": "bcuy4H148dA_",
        "outputId": "58cd5a47-05c3-485d-dd63-fdf869e8ac2d"
      },
      "execution_count": null,
      "outputs": [
        {
          "name": "stdout",
          "output_type": "stream",
          "text": [
            "enter yor number:14\n",
            "enter your number:12\n",
            "enter your number:6\n"
          ]
        },
        {
          "output_type": "error",
          "ename": "NameError",
          "evalue": "ignored",
          "traceback": [
            "\u001b[0;31m---------------------------------------------------------------------------\u001b[0m",
            "\u001b[0;31mNameError\u001b[0m                                 Traceback (most recent call last)",
            "\u001b[0;32m<ipython-input-4-c0681d954eaf>\u001b[0m in \u001b[0;36m<module>\u001b[0;34m\u001b[0m\n\u001b[1;32m      2\u001b[0m \u001b[0mb\u001b[0m \u001b[0;34m=\u001b[0m \u001b[0mint\u001b[0m \u001b[0;34m(\u001b[0m\u001b[0minput\u001b[0m\u001b[0;34m(\u001b[0m\u001b[0;34m'enter your number:'\u001b[0m\u001b[0;34m)\u001b[0m\u001b[0;34m)\u001b[0m\u001b[0;34m\u001b[0m\u001b[0;34m\u001b[0m\u001b[0m\n\u001b[1;32m      3\u001b[0m \u001b[0mc\u001b[0m \u001b[0;34m=\u001b[0m \u001b[0mint\u001b[0m \u001b[0;34m(\u001b[0m\u001b[0minput\u001b[0m\u001b[0;34m(\u001b[0m\u001b[0;34m'enter your number:'\u001b[0m\u001b[0;34m)\u001b[0m\u001b[0;34m)\u001b[0m\u001b[0;34m\u001b[0m\u001b[0;34m\u001b[0m\u001b[0m\n\u001b[0;32m----> 4\u001b[0;31m \u001b[0mperimeter\u001b[0m \u001b[0;34m=\u001b[0m \u001b[0ma\u001b[0m \u001b[0;34m+\u001b[0m \u001b[0mb\u001b[0m \u001b[0;34m+\u001b[0m \u001b[0mC\u001b[0m\u001b[0;34m\u001b[0m\u001b[0;34m\u001b[0m\u001b[0m\n\u001b[0m\u001b[1;32m      5\u001b[0m \u001b[0mprint\u001b[0m\u001b[0;34m(\u001b[0m\u001b[0mperimeter\u001b[0m\u001b[0;34m)\u001b[0m\u001b[0;34m\u001b[0m\u001b[0;34m\u001b[0m\u001b[0m\n",
            "\u001b[0;31mNameError\u001b[0m: name 'C' is not defined"
          ]
        }
      ]
    }
  ],
  "metadata": {
    "colab": {
      "provenance": []
    },
    "kernelspec": {
      "display_name": "Python 3",
      "name": "python3"
    },
    "language_info": {
      "name": "python"
    }
  },
  "nbformat": 4,
  "nbformat_minor": 0
}